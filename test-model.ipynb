{
 "cells": [
  {
   "cell_type": "code",
   "execution_count": 10,
   "metadata": {},
   "outputs": [
    {
     "name": "stdout",
     "output_type": "stream",
     "text": [
      "Message: Congratulations! You have won a free ticket to Bahamas. Call now!\n",
      "Prediction: Spam\n",
      "\n",
      "Message: Hi, can we schedule a meeting for tomorrow?\n",
      "Prediction: Not Spam\n",
      "\n",
      "Message: You are selected as a winner. Click the link to claim your prize.\n",
      "Prediction: Spam\n",
      "\n",
      "Message: Hello, just checking in. How are you doing?\n",
      "Prediction: Not Spam\n",
      "\n"
     ]
    }
   ],
   "source": [
    "import joblib\n",
    "\n",
    "# 1. تحميل النموذج والقاموس\n",
    "model = joblib.load(\"model/spam_model.joblib\")\n",
    "vectorizer = joblib.load(\"model/vectorizer.joblib\")\n",
    "\n",
    "# 2. تعريف الرسائل الجديدة للاختبار\n",
    "messages = [\n",
    "    \"Congratulations! You have won a free ticket to Bahamas. Call now!\",\n",
    "    \"Hi, can we schedule a meeting for tomorrow?\",\n",
    "    \"You are selected as a winner. Click the link to claim your prize.\",\n",
    "    \"Hello, just checking in. How are you doing?\",\n",
    "]\n",
    "\n",
    "# 3. تحويل النصوص إلى شكل رقمي باستخدام القاموس\n",
    "message_vectors = vectorizer.transform(messages)\n",
    "\n",
    "# 4. استخدام النموذج لتصنيف الرسائل\n",
    "predictions = model.predict(message_vectors)\n",
    "\n",
    "# 5. عرض النتائج\n",
    "for message, prediction in zip(messages, predictions):\n",
    "    label = \"Spam\" if prediction == 1 else \"Not Spam\"\n",
    "    print(f\"Message: {message}\\nPrediction: {label}\\n\")"
   ]
  },
  {
   "cell_type": "code",
   "execution_count": null,
   "metadata": {},
   "outputs": [],
   "source": []
  }
 ],
 "metadata": {
  "kernelspec": {
   "display_name": ".venv",
   "language": "python",
   "name": "python3"
  },
  "language_info": {
   "codemirror_mode": {
    "name": "ipython",
    "version": 3
   },
   "file_extension": ".py",
   "mimetype": "text/x-python",
   "name": "python",
   "nbconvert_exporter": "python",
   "pygments_lexer": "ipython3",
   "version": "3.9.13"
  }
 },
 "nbformat": 4,
 "nbformat_minor": 2
}
